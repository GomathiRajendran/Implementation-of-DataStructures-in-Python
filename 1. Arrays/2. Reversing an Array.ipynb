{
 "cells": [
  {
   "cell_type": "code",
   "execution_count": 24,
   "metadata": {},
   "outputs": [
    {
     "name": "stdout",
     "output_type": "stream",
     "text": [
      "Array before Reversing: array('i', [3, 4, 2, 1])\n",
      "Array after Reversing: array('i', [1, 2, 4, 3])\n",
      "4\n"
     ]
    }
   ],
   "source": [
    "import array\n",
    "\n",
    "def  reversingAnArray(start, end, myArray):\n",
    "    while(start < end):\n",
    "        myArray[start], myArray[end - 1] = myArray[end - 1], myArray[start]\n",
    "        start += 1\n",
    "        end -= 1\n",
    "\n",
    "if __name__ == '__main__':\n",
    "    myArray = array.array('i')\n",
    "    myArray.insert(2, 2)\n",
    "    myArray.insert(0, 3)\n",
    "    myArray.insert(1, 4)\n",
    "    myArray.insert(3, 1)\n",
    "    print('Array before Reversing:',myArray)\n",
    "    reversingAnArray(0, len(myArray), myArray)\n",
    "    print('Array after Reversing:',myArray)\n",
    "    print(len(myArray))"
   ]
  }
 ],
 "metadata": {
  "kernelspec": {
   "display_name": "Python 3",
   "language": "python",
   "name": "python3"
  },
  "language_info": {
   "codemirror_mode": {
    "name": "ipython",
    "version": 3
   },
   "file_extension": ".py",
   "mimetype": "text/x-python",
   "name": "python",
   "nbconvert_exporter": "python",
   "pygments_lexer": "ipython3",
   "version": "3.7.3"
  }
 },
 "nbformat": 4,
 "nbformat_minor": 2
}
