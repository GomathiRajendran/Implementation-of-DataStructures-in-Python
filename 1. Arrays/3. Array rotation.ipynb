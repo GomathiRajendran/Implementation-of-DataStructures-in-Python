{
 "cells": [
  {
   "cell_type": "markdown",
   "metadata": {},
   "source": [
    "## Array Rotation"
   ]
  },
  {
   "cell_type": "code",
   "execution_count": 1,
   "metadata": {},
   "outputs": [
    {
     "name": "stdout",
     "output_type": "stream",
     "text": [
      "0 1 2 3 4  \n",
      "2 3 4 0 1  \n",
      "4 0 1 2 3  \n"
     ]
    }
   ],
   "source": [
    "class Array(object):\n",
    "    def __init__(self, size, arraytype = int):\n",
    "        self.size = size\n",
    "        self.arrayElements = [arraytype(0)]*self.size\n",
    "        \n",
    "    def insert(self, element, pos):\n",
    "        for i in range(pos,self.size-1):\n",
    "            self.arrayElements[i+1] = self.arrayElements[i] \n",
    "        self.arrayElements[pos] = element\n",
    "        \n",
    "    def oneRotateRight(self):\n",
    "        for i in range(self.size-1):\n",
    "            self.arrayElements[i], self.arrayElements[i+1] = self.arrayElements[i+1], self.arrayElements[i]\n",
    "            \n",
    "    def oneRotateLeft(self):\n",
    "        for i in range(self.size-1,0,-1):\n",
    "            self.arrayElements[i], self.arrayElements[i-1] = self.arrayElements[i-1], self.arrayElements[i]\n",
    "               \n",
    "    def arrayRotateRight(self,rotate):\n",
    "        for i in range(rotate):\n",
    "            self.oneRotateRight()\n",
    "            \n",
    "    def arrayRotateLeft(self,rotate):\n",
    "        for i in range(rotate):\n",
    "            self.oneRotateLeft()\n",
    "            \n",
    "    def __str__(self):\n",
    "        for _ in self.arrayElements:\n",
    "            print(str(_), end=' ')\n",
    "        return(' ')\n",
    "        \n",
    "if __name__ == '__main__':\n",
    "    a = Array(5)\n",
    "    a.insert(0,0)\n",
    "    a.insert(1,1)\n",
    "    a.insert(2,2)\n",
    "    a.insert(3,3)\n",
    "    a.insert(4,4)\n",
    "    print(a)\n",
    "    a.arrayRotateLeft(3)\n",
    "    print(a)\n",
    "    a.arrayRotateRight(2)\n",
    "    print(a)\n",
    "    \n"
   ]
  },
  {
   "cell_type": "code",
   "execution_count": null,
   "metadata": {},
   "outputs": [],
   "source": []
  }
 ],
 "metadata": {
  "kernelspec": {
   "display_name": "Python 3",
   "language": "python",
   "name": "python3"
  },
  "language_info": {
   "codemirror_mode": {
    "name": "ipython",
    "version": 3
   },
   "file_extension": ".py",
   "mimetype": "text/x-python",
   "name": "python",
   "nbconvert_exporter": "python",
   "pygments_lexer": "ipython3",
   "version": "3.7.3"
  }
 },
 "nbformat": 4,
 "nbformat_minor": 2
}
