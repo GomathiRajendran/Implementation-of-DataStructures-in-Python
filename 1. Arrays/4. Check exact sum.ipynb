{
 "cells": [
  {
   "cell_type": "code",
   "execution_count": 1,
   "metadata": {},
   "outputs": [
    {
     "name": "stdout",
     "output_type": "stream",
     "text": [
      "Array doesn't have elements with the sum: 75\n"
     ]
    }
   ],
   "source": [
    "# Given an array A[] of n numbers and another number x, determines whether or not there exist two elements in A whose sum is exactly x.\n",
    "\n",
    "def checkSum(array, sum):\n",
    "    array = sorted(array)\n",
    "    leftIndex = 0\n",
    "    rightIndex = len(array) - 1\n",
    "    while leftIndex < rightIndex:\n",
    "        if (array[leftIndex] + array[rightIndex] ==  sum):\n",
    "            return array[leftIndex], array[rightIndex]\n",
    "        elif(array[leftIndex] + array[rightIndex] < sum):\n",
    "            leftIndex += 1\n",
    "        else:\n",
    "            rightIndex -= 1\n",
    "\n",
    "    return False, False\n",
    "\n",
    "if __name__ == '__main__':\n",
    "    myArray = [10, 20, 30, 40, 50]\n",
    "    sum = 75\n",
    "    number1, number2 = checkSum(myArray, sum)\n",
    "    if(number1 and number2):\n",
    "        print('Array has elements:', number1, 'and', number2, 'with sum:', sum)\n",
    "    else:\n",
    "        print('Array doesn\\'t have elements with the sum:', sum)\n"
   ]
  },
  {
   "cell_type": "code",
   "execution_count": null,
   "metadata": {},
   "outputs": [],
   "source": []
  }
 ],
 "metadata": {
  "kernelspec": {
   "display_name": "Python 3",
   "language": "python",
   "name": "python3"
  },
  "language_info": {
   "codemirror_mode": {
    "name": "ipython",
    "version": 3
   },
   "file_extension": ".py",
   "mimetype": "text/x-python",
   "name": "python",
   "nbconvert_exporter": "python",
   "pygments_lexer": "ipython3",
   "version": "3.7.3"
  }
 },
 "nbformat": 4,
 "nbformat_minor": 2
}
