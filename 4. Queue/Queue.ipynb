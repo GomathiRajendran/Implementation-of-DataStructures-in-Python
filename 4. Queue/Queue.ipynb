{
 "cells": [
  {
   "cell_type": "markdown",
   "metadata": {},
   "source": [
    "#####  A queue is an ordered list in which insertions are done at one end (rear) and deletions are done at other end (front). The first element to be inserted is the first one to be deleted. Hence, it is called First in First out (FIFO) or Last in Last out (LILO) list"
   ]
  },
  {
   "cell_type": "code",
   "execution_count": 9,
   "metadata": {},
   "outputs": [
    {
     "name": "stdout",
     "output_type": "stream",
     "text": [
      "Elements in Queue:  5 4 3 2 1\n",
      "Size of Queue:  5\n",
      "Elements in Queue:  3 2 1 1\n",
      "Size of Queue:  4\n"
     ]
    }
   ],
   "source": [
    "# -*- coding: utf-8 -*-\n",
    "\"\"\"\n",
    "Created on Sat Nov 14 21:41:42 2020\n",
    "\n",
    "@author: R GOMATHI\n",
    "\"\"\"\n",
    "\n",
    "class Queue(object):\n",
    "    \n",
    "    def __init__(self,limit=20):\n",
    "        self.queue = []\n",
    "        self.limit = limit\n",
    "        \n",
    "    def __str__(self):\n",
    "        return ' '.join([str(i) for i in self.queue])\n",
    "    \n",
    "    def size(self):\n",
    "        return len(self.queue)\n",
    "    \n",
    "    def isEmpty(self):\n",
    "        return  self.size()<= 0\n",
    "        \n",
    "    def enqueue(self,data):\n",
    "        if self.size() >= self.limit:\n",
    "            print(\"Queue is Full!\")\n",
    "        else:\n",
    "            self.queue.append(data)\n",
    "                        \n",
    "    def dequeue(self):\n",
    "        if self.size()==0:\n",
    "            print(\"Queue is Empty!\")\n",
    "        else:\n",
    "            self.queue.pop(0)\n",
    "            \n",
    "if __name__ == '__main__':\n",
    "    \n",
    "    myQueue = Queue(5)\n",
    "    myQueue.enqueue(5)\n",
    "    myQueue.enqueue(4)\n",
    "    myQueue.enqueue(3)\n",
    "    myQueue.enqueue(2)\n",
    "    myQueue.enqueue(1)\n",
    "    print(\"Elements in Queue: \",myQueue)\n",
    "    print(\"Size of Queue: \",myQueue.size())\n",
    "    myQueue.dequeue()\n",
    "    myQueue.dequeue()\n",
    "    myQueue.enqueue(1)\n",
    "    print(\"Elements in Queue: \",myQueue)\n",
    "    print(\"Size of Queue: \",myQueue.size())   \n",
    "            "
   ]
  },
  {
   "cell_type": "markdown",
   "metadata": {},
   "source": [
    "##### --------------------------------------------------------------------------------------------------------------------------------------------------------------------------------\n",
    "##### Time complexity:\n",
    "enqueue : O(n)\n",
    "\n",
    "dequeue : O(n)"
   ]
  },
  {
   "cell_type": "code",
   "execution_count": null,
   "metadata": {},
   "outputs": [],
   "source": []
  }
 ],
 "metadata": {
  "kernelspec": {
   "display_name": "Python 3",
   "language": "python",
   "name": "python3"
  },
  "language_info": {
   "codemirror_mode": {
    "name": "ipython",
    "version": 3
   },
   "file_extension": ".py",
   "mimetype": "text/x-python",
   "name": "python",
   "nbconvert_exporter": "python",
   "pygments_lexer": "ipython3",
   "version": "3.7.3"
  }
 },
 "nbformat": 4,
 "nbformat_minor": 2
}
