{
 "cells": [
  {
   "cell_type": "markdown",
   "metadata": {},
   "source": [
    "## Circular Linked List"
   ]
  },
  {
   "cell_type": "markdown",
   "metadata": {},
   "source": [
    "###### Circular linked list is similar to single linked list except that the last element points to first element of the linked list."
   ]
  },
  {
   "cell_type": "code",
   "execution_count": 1,
   "metadata": {},
   "outputs": [
    {
     "name": "stdout",
     "output_type": "stream",
     "text": [
      "1 2 3 4 "
     ]
    }
   ],
   "source": [
    "class Node(object):\n",
    "    def __init__(self,data):\n",
    "        self.data = data\n",
    "        self.next = None\n",
    "\n",
    "class CircularLL(object):\n",
    "    def __init__(self):\n",
    "        self.head = Node(None)\n",
    "        self.tail = Node(None)\n",
    "        self.head.next = self.tail\n",
    "        self.tail.next = self.head\n",
    "   \n",
    "    # Adding node to CircularLL   \n",
    "    def add(self,data):\n",
    "        \n",
    "        newNode = Node(data)\n",
    "        \n",
    "        # Checking if the cll is empty. If empty add the new node as head(as well as tail)\n",
    "        if(self.head.data == None):\n",
    "            self.head = newNode\n",
    "            self.tail = newNode \n",
    "            newNode.next = self.head\n",
    "        \n",
    "        # If cll is not empty,\n",
    "        else:\n",
    "            self.tail.next = newNode\n",
    "            self.tail = newNode\n",
    "            newNode.next = self.head\n",
    "            \n",
    "    def display(self):\n",
    "        \n",
    "        # If the cll is empty,\n",
    "        if(self.head.data == None):\n",
    "            print(\"Circular Linked List is empty\")\n",
    "            \n",
    "        # If cll is not empty,\n",
    "        else:\n",
    "            current = self.head\n",
    "            print(current.data, end=\" \")\n",
    "            while(current.next != self.head):\n",
    "                current = current.next\n",
    "                print(current.data, end=\" \")\n",
    "                \n",
    "if __name__ == \"__main__\":\n",
    "    cl = CircularLL()\n",
    "    #Adds data to the list  \n",
    "    cl.add(1)\n",
    "    cl.add(2)\n",
    "    cl.add(3)\n",
    "    cl.add(4)\n",
    "    #Displays all the nodes present in the list    \n",
    "    cl.display()"
   ]
  },
  {
   "cell_type": "code",
   "execution_count": null,
   "metadata": {},
   "outputs": [],
   "source": []
  }
 ],
 "metadata": {
  "kernelspec": {
   "display_name": "Python 3",
   "language": "python",
   "name": "python3"
  },
  "language_info": {
   "codemirror_mode": {
    "name": "ipython",
    "version": 3
   },
   "file_extension": ".py",
   "mimetype": "text/x-python",
   "name": "python",
   "nbconvert_exporter": "python",
   "pygments_lexer": "ipython3",
   "version": "3.7.3"
  }
 },
 "nbformat": 4,
 "nbformat_minor": 2
}
