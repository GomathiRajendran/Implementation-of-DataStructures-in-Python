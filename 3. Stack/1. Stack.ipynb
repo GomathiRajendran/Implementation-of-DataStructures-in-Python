{
 "cells": [
  {
   "cell_type": "markdown",
   "metadata": {},
   "source": [
    "## Stack"
   ]
  },
  {
   "cell_type": "code",
   "execution_count": 2,
   "metadata": {},
   "outputs": [
    {
     "name": "stdout",
     "output_type": "stream",
     "text": [
      "0 1 2 3 4 5 6 7 8 9\n",
      "0 1 2 3 4 5 6 7 8\n"
     ]
    },
    {
     "data": {
      "text/plain": [
       "9"
      ]
     },
     "execution_count": 2,
     "metadata": {},
     "output_type": "execute_result"
    }
   ],
   "source": [
    "class Stack(object):\n",
    "    def __init__(self, limit = 20):\n",
    "        self.stack = []\n",
    "        self.limit = limit\n",
    "    \n",
    "    # for printing the stack contents\n",
    "    def __str__(self):\n",
    "        return ' '.join([str(i) for i in self.stack])\n",
    "    \n",
    "    # for pushing an element on to the stack\n",
    "    def push(self, data):\n",
    "        if len(self.stack) >= self.limit:\n",
    "            print('Stack Overflow')\n",
    "        else:\n",
    "            self.stack.append(data)\n",
    "            \n",
    "    # for popping the uppermost element\n",
    "    def pop(self):\n",
    "        if len(self.stack) <= 0:\n",
    "            print('Stack Underflow or stack is empty')\n",
    "        else:\n",
    "            self.stack.pop()\n",
    "            \n",
    "    # for peeking the top-most element of the stack\n",
    "    def peek(self):\n",
    "        if len(self.stack) <= 0:\n",
    "            print('Stack Underflow or stack is empty')\n",
    "        else:\n",
    "            return self.stack[-1]\n",
    "        \n",
    "    # to check if stack is empty\n",
    "    def isEmpty(self):\n",
    "        return len(self.stack) == 0\n",
    "    \n",
    "    # for checking the size of stack\n",
    "    def size(self):\n",
    "        return len(self.stack)\n",
    "\n",
    "myStack = Stack()\n",
    "for i in range(10):\n",
    "    myStack.push(i)\n",
    "print(myStack)\n",
    "myStack.pop()            \n",
    "print(myStack)\n",
    "myStack.peek()          \n",
    "myStack.isEmpty()\n",
    "myStack.size()"
   ]
  },
  {
   "cell_type": "code",
   "execution_count": null,
   "metadata": {},
   "outputs": [],
   "source": []
  }
 ],
 "metadata": {
  "kernelspec": {
   "display_name": "Python 3",
   "language": "python",
   "name": "python3"
  },
  "language_info": {
   "codemirror_mode": {
    "name": "ipython",
    "version": 3
   },
   "file_extension": ".py",
   "mimetype": "text/x-python",
   "name": "python",
   "nbconvert_exporter": "python",
   "pygments_lexer": "ipython3",
   "version": "3.7.3"
  }
 },
 "nbformat": 4,
 "nbformat_minor": 2
}
